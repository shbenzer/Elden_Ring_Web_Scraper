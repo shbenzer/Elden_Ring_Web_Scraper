{
 "cells": [
  {
   "cell_type": "code",
   "execution_count": null,
   "id": "1911c53b",
   "metadata": {},
   "outputs": [],
   "source": [
    "import selenium\n",
    "from selenium import webdriver\n",
    "import requests\n",
    "from bs4 import BeautifulSoup\n",
    "from webdriver_manager.chrome import ChromeDriverManager\n",
    "from selenium.webdriver.chrome.service import Service\n",
    "from selenium.webdriver.common.by import By\n",
    "import pandas as pd\n",
    "import html5lib\n",
    "\n",
    "service = Service(executable_path=ChromeDriverManager().install())\n",
    "driver = webdriver.Chrome(service=service)"
   ]
  },
  {
   "cell_type": "code",
   "execution_count": null,
   "id": "0313ace3",
   "metadata": {},
   "outputs": [],
   "source": [
    "url = \"https://scripterswar.com/EldenRing/completion\"\n",
    "driver.get(url)"
   ]
  },
  {
   "cell_type": "code",
   "execution_count": null,
   "id": "5e5fb278",
   "metadata": {},
   "outputs": [],
   "source": [
    "dropdowns = driver.find_elements(By.XPATH, \"//*[contains(text(), '0')]\")"
   ]
  },
  {
   "cell_type": "code",
   "execution_count": null,
   "id": "3a6badc2",
   "metadata": {},
   "outputs": [],
   "source": [
    "for dropdown in dropdowns[3:]:\n",
    "    try:\n",
    "        dropdown.click()\n",
    "    except:\n",
    "        pass"
   ]
  },
  {
   "cell_type": "code",
   "execution_count": null,
   "id": "71d9fca1",
   "metadata": {},
   "outputs": [],
   "source": [
    "expand_alls = driver.find_elements(By.XPATH, \"//*[contains(text(), 'Expand All')]\")"
   ]
  },
  {
   "cell_type": "code",
   "execution_count": null,
   "id": "842e986c",
   "metadata": {},
   "outputs": [],
   "source": [
    "for expand in expand_alls:\n",
    "    try:\n",
    "        expand.click()\n",
    "    except:\n",
    "        pass"
   ]
  },
  {
   "cell_type": "code",
   "execution_count": null,
   "id": "0900284b",
   "metadata": {},
   "outputs": [],
   "source": [
    "html = driver.page_source\n",
    "soup = BeautifulSoup(html, 'html.parser')\n",
    "print(soup.prettify())"
   ]
  },
  {
   "cell_type": "code",
   "execution_count": null,
   "id": "6e7ab2b3",
   "metadata": {},
   "outputs": [],
   "source": [
    "tables = soup.find_all('table')\n",
    "\n",
    "dfs = []\n",
    "for table in tables:\n",
    "    dfs.append(pd.read_html(str(table)))"
   ]
  },
  {
   "cell_type": "code",
   "execution_count": null,
   "id": "4d52ad88",
   "metadata": {},
   "outputs": [],
   "source": [
    "print(pd.read_html(str(table))[0])"
   ]
  },
  {
   "cell_type": "code",
   "execution_count": null,
   "id": "0ac949a7",
   "metadata": {
    "scrolled": true
   },
   "outputs": [],
   "source": [
    "df = pd.concat([pd.concat(pd.read_html(str(table)), axis=0) for table in tables], axis=0)\n",
    "df.head"
   ]
  },
  {
   "cell_type": "code",
   "execution_count": null,
   "id": "7a666287",
   "metadata": {},
   "outputs": [],
   "source": [
    "##convert df to csv\n",
    "df.to_csv('elden_ring_checklist.csv')"
   ]
  }
 ],
 "metadata": {
  "kernelspec": {
   "display_name": "Python 3 (ipykernel)",
   "language": "python",
   "name": "python3"
  },
  "language_info": {
   "codemirror_mode": {
    "name": "ipython",
    "version": 3
   },
   "file_extension": ".py",
   "mimetype": "text/x-python",
   "name": "python",
   "nbconvert_exporter": "python",
   "pygments_lexer": "ipython3",
   "version": "3.11.5"
  }
 },
 "nbformat": 4,
 "nbformat_minor": 5
}
